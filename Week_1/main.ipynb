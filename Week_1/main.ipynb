{
 "cells": [
  {
   "cell_type": "code",
   "execution_count": 1,
   "id": "a9612f19",
   "metadata": {},
   "outputs": [],
   "source": [
    "import numpy as np\n",
    "import pandas as pd"
   ]
  },
  {
   "cell_type": "code",
   "execution_count": 3,
   "id": "37cc92de",
   "metadata": {},
   "outputs": [],
   "source": [
    "file=pd.read_excel('product.xlsx')"
   ]
  },
  {
   "cell_type": "code",
   "execution_count": 4,
   "id": "eebec1e9",
   "metadata": {},
   "outputs": [
    {
     "name": "stdout",
     "output_type": "stream",
     "text": [
      "<class 'pandas.core.frame.DataFrame'>\n",
      "RangeIndex: 10000 entries, 0 to 9999\n",
      "Data columns (total 13 columns):\n",
      " #   Column                              Non-Null Count  Dtype  \n",
      "---  ------                              --------------  -----  \n",
      " 0   Product_ID                          10000 non-null  object \n",
      " 1   Category                            10000 non-null  object \n",
      " 2   Subcategory                         10000 non-null  object \n",
      " 3   Price                               10000 non-null  int64  \n",
      " 4   Brand                               10000 non-null  object \n",
      " 5   Average_Rating_of_Similar_Products  10000 non-null  float64\n",
      " 6   Product_Rating                      10000 non-null  float64\n",
      " 7   Customer_Review_Sentiment_Score     10000 non-null  float64\n",
      " 8   Holiday                             10000 non-null  object \n",
      " 9   Season                              10000 non-null  object \n",
      " 10  Geographical_Location               10000 non-null  object \n",
      " 11  Similar_Product_List                10000 non-null  object \n",
      " 12  Probability_of_Recommendation       10000 non-null  float64\n",
      "dtypes: float64(4), int64(1), object(8)\n",
      "memory usage: 1015.8+ KB\n"
     ]
    }
   ],
   "source": [
    "file.info()"
   ]
  },
  {
   "cell_type": "code",
   "execution_count": 5,
   "id": "f01e962f",
   "metadata": {},
   "outputs": [
    {
     "data": {
      "text/html": [
       "<div>\n",
       "<style scoped>\n",
       "    .dataframe tbody tr th:only-of-type {\n",
       "        vertical-align: middle;\n",
       "    }\n",
       "\n",
       "    .dataframe tbody tr th {\n",
       "        vertical-align: top;\n",
       "    }\n",
       "\n",
       "    .dataframe thead th {\n",
       "        text-align: right;\n",
       "    }\n",
       "</style>\n",
       "<table border=\"1\" class=\"dataframe\">\n",
       "  <thead>\n",
       "    <tr style=\"text-align: right;\">\n",
       "      <th></th>\n",
       "      <th>Price</th>\n",
       "      <th>Average_Rating_of_Similar_Products</th>\n",
       "      <th>Product_Rating</th>\n",
       "      <th>Customer_Review_Sentiment_Score</th>\n",
       "      <th>Probability_of_Recommendation</th>\n",
       "    </tr>\n",
       "  </thead>\n",
       "  <tbody>\n",
       "    <tr>\n",
       "      <th>count</th>\n",
       "      <td>10000.00000</td>\n",
       "      <td>10000.00000</td>\n",
       "      <td>10000.000000</td>\n",
       "      <td>10000.000000</td>\n",
       "      <td>10000.000000</td>\n",
       "    </tr>\n",
       "    <tr>\n",
       "      <th>mean</th>\n",
       "      <td>2552.36510</td>\n",
       "      <td>3.51216</td>\n",
       "      <td>3.502610</td>\n",
       "      <td>0.498616</td>\n",
       "      <td>0.551110</td>\n",
       "    </tr>\n",
       "    <tr>\n",
       "      <th>std</th>\n",
       "      <td>1413.52875</td>\n",
       "      <td>0.87081</td>\n",
       "      <td>0.872801</td>\n",
       "      <td>0.289370</td>\n",
       "      <td>0.260091</td>\n",
       "    </tr>\n",
       "    <tr>\n",
       "      <th>min</th>\n",
       "      <td>100.00000</td>\n",
       "      <td>2.00000</td>\n",
       "      <td>2.000000</td>\n",
       "      <td>0.000000</td>\n",
       "      <td>0.100000</td>\n",
       "    </tr>\n",
       "    <tr>\n",
       "      <th>25%</th>\n",
       "      <td>1325.00000</td>\n",
       "      <td>2.80000</td>\n",
       "      <td>2.700000</td>\n",
       "      <td>0.250000</td>\n",
       "      <td>0.330000</td>\n",
       "    </tr>\n",
       "    <tr>\n",
       "      <th>50%</th>\n",
       "      <td>2585.00000</td>\n",
       "      <td>3.50000</td>\n",
       "      <td>3.500000</td>\n",
       "      <td>0.490000</td>\n",
       "      <td>0.550000</td>\n",
       "    </tr>\n",
       "    <tr>\n",
       "      <th>75%</th>\n",
       "      <td>3755.00000</td>\n",
       "      <td>4.30000</td>\n",
       "      <td>4.300000</td>\n",
       "      <td>0.750000</td>\n",
       "      <td>0.780000</td>\n",
       "    </tr>\n",
       "    <tr>\n",
       "      <th>max</th>\n",
       "      <td>5000.00000</td>\n",
       "      <td>5.00000</td>\n",
       "      <td>5.000000</td>\n",
       "      <td>1.000000</td>\n",
       "      <td>1.000000</td>\n",
       "    </tr>\n",
       "  </tbody>\n",
       "</table>\n",
       "</div>"
      ],
      "text/plain": [
       "             Price  Average_Rating_of_Similar_Products  Product_Rating  \\\n",
       "count  10000.00000                         10000.00000    10000.000000   \n",
       "mean    2552.36510                             3.51216        3.502610   \n",
       "std     1413.52875                             0.87081        0.872801   \n",
       "min      100.00000                             2.00000        2.000000   \n",
       "25%     1325.00000                             2.80000        2.700000   \n",
       "50%     2585.00000                             3.50000        3.500000   \n",
       "75%     3755.00000                             4.30000        4.300000   \n",
       "max     5000.00000                             5.00000        5.000000   \n",
       "\n",
       "       Customer_Review_Sentiment_Score  Probability_of_Recommendation  \n",
       "count                     10000.000000                   10000.000000  \n",
       "mean                          0.498616                       0.551110  \n",
       "std                           0.289370                       0.260091  \n",
       "min                           0.000000                       0.100000  \n",
       "25%                           0.250000                       0.330000  \n",
       "50%                           0.490000                       0.550000  \n",
       "75%                           0.750000                       0.780000  \n",
       "max                           1.000000                       1.000000  "
      ]
     },
     "execution_count": 5,
     "metadata": {},
     "output_type": "execute_result"
    }
   ],
   "source": [
    "file.describe()"
   ]
  },
  {
   "cell_type": "code",
   "execution_count": 7,
   "id": "f74589cf",
   "metadata": {},
   "outputs": [
    {
     "data": {
      "text/plain": [
       "Product_ID                            0\n",
       "Category                              0\n",
       "Subcategory                           0\n",
       "Price                                 0\n",
       "Brand                                 0\n",
       "Average_Rating_of_Similar_Products    0\n",
       "Product_Rating                        0\n",
       "Customer_Review_Sentiment_Score       0\n",
       "Holiday                               0\n",
       "Season                                0\n",
       "Geographical_Location                 0\n",
       "Similar_Product_List                  0\n",
       "Probability_of_Recommendation         0\n",
       "dtype: int64"
      ]
     },
     "execution_count": 7,
     "metadata": {},
     "output_type": "execute_result"
    }
   ],
   "source": [
    "file.isnull().sum()"
   ]
  }
 ],
 "metadata": {
  "kernelspec": {
   "display_name": "Python 3",
   "language": "python",
   "name": "python3"
  },
  "language_info": {
   "codemirror_mode": {
    "name": "ipython",
    "version": 3
   },
   "file_extension": ".py",
   "mimetype": "text/x-python",
   "name": "python",
   "nbconvert_exporter": "python",
   "pygments_lexer": "ipython3",
   "version": "3.12.5"
  }
 },
 "nbformat": 4,
 "nbformat_minor": 5
}
